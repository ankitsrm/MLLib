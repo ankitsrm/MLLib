{
  "nbformat": 4,
  "nbformat_minor": 0,
  "metadata": {
    "colab": {
      "provenance": [],
      "authorship_tag": "ABX9TyMLRiyV2ThUgpCSUGddrMTq",
      "include_colab_link": true
    },
    "kernelspec": {
      "name": "python3",
      "display_name": "Python 3"
    },
    "language_info": {
      "name": "python"
    }
  },
  "cells": [
    {
      "cell_type": "markdown",
      "metadata": {
        "id": "view-in-github",
        "colab_type": "text"
      },
      "source": [
        "<a href=\"https://colab.research.google.com/github/ankitsrm/MLLib/blob/main/MachineLearning/0_1Numpy.ipynb\" target=\"_parent\"><img src=\"https://colab.research.google.com/assets/colab-badge.svg\" alt=\"Open In Colab\"/></a>"
      ]
    },
    {
      "cell_type": "code",
      "execution_count": 1,
      "metadata": {
        "id": "aN_ZFS9QcUyC"
      },
      "outputs": [],
      "source": [
        "import numpy as np"
      ]
    },
    {
      "cell_type": "markdown",
      "source": [
        "Creating Matrix with Matrix of Array"
      ],
      "metadata": {
        "id": "tZwV59Wcc2yG"
      }
    },
    {
      "cell_type": "code",
      "source": [
        "matrix_array = np.array([[1,2,3],[4,5,8],[6,5,9]])"
      ],
      "metadata": {
        "id": "giMnsonjcXfQ"
      },
      "execution_count": 2,
      "outputs": []
    },
    {
      "cell_type": "code",
      "source": [
        "matrix_array"
      ],
      "metadata": {
        "colab": {
          "base_uri": "https://localhost:8080/"
        },
        "id": "KLCg-89Scn3_",
        "outputId": "6ece3b84-012b-4711-b105-600ffb05f541"
      },
      "execution_count": 3,
      "outputs": [
        {
          "output_type": "execute_result",
          "data": {
            "text/plain": [
              "array([[1, 2, 3],\n",
              "       [4, 5, 8],\n",
              "       [6, 5, 9]])"
            ]
          },
          "metadata": {},
          "execution_count": 3
        }
      ]
    },
    {
      "cell_type": "markdown",
      "source": [
        "# Creating a Matrix with Matrix object."
      ],
      "metadata": {
        "id": "qpFMqYSAcsuC"
      }
    },
    {
      "cell_type": "code",
      "source": [
        "matrix_obj=np.mat([[1,2,3],[4,5,8],[6,5,9]])\n",
        "matrix_obj"
      ],
      "metadata": {
        "colab": {
          "base_uri": "https://localhost:8080/"
        },
        "id": "IDr-bkFzcp3P",
        "outputId": "8c166d19-6357-403f-9dae-ec1b30ce7029"
      },
      "execution_count": 5,
      "outputs": [
        {
          "output_type": "execute_result",
          "data": {
            "text/plain": [
              "matrix([[1, 2, 3],\n",
              "        [4, 5, 8],\n",
              "        [6, 5, 9]])"
            ]
          },
          "metadata": {},
          "execution_count": 5
        }
      ]
    },
    {
      "cell_type": "markdown",
      "source": [
        "In the matrix data structure is not recomended.\n",
        "*   Array is the defact data structure in numpy.\n",
        "*  Almost all opertion done as array in numpy.\n",
        "\n"
      ],
      "metadata": {
        "id": "dhIwnN12dJGO"
      }
    },
    {
      "cell_type": "markdown",
      "source": [
        "# Creating Sparse Matrix."
      ],
      "metadata": {
        "id": "f5T9aq5gd5Pu"
      }
    },
    {
      "cell_type": "markdown",
      "source": [
        "Sparse matrix a matrix in which most element are zero. Then this matrix preserve only non zero element in that."
      ],
      "metadata": {
        "id": "svP6TS3qe14s"
      }
    },
    {
      "cell_type": "code",
      "source": [
        "from scipy import sparse"
      ],
      "metadata": {
        "id": "pjUuEYmudEZU"
      },
      "execution_count": 6,
      "outputs": []
    },
    {
      "cell_type": "code",
      "source": [
        "matrix = np.array([[0,0],\n",
        "                   [0,1],\n",
        "                   [3,0]])\n",
        "matrix_sparse=sparse.csr_matrix(matrix)\n",
        "print(\"Sparse Matrix : \")\n",
        "print(matrix_sparse)"
      ],
      "metadata": {
        "colab": {
          "base_uri": "https://localhost:8080/"
        },
        "id": "iaF0sSpfeCz3",
        "outputId": "941f34a3-759c-405f-a31a-4a8ba6edfebb"
      },
      "execution_count": 10,
      "outputs": [
        {
          "output_type": "stream",
          "name": "stdout",
          "text": [
            "Sparse Matrix : \n",
            "  (1, 1)\t1\n",
            "  (2, 0)\t3\n"
          ]
        }
      ]
    },
    {
      "cell_type": "code",
      "source": [],
      "metadata": {
        "id": "9LFDUO72eg9n"
      },
      "execution_count": null,
      "outputs": []
    }
  ]
}